{
 "cells": [
  {
   "cell_type": "code",
   "execution_count": 1,
   "id": "9864954c",
   "metadata": {},
   "outputs": [],
   "source": [
    "import numpy as np\n",
    "import matplotlib.pyplot as plt\n",
    "%matplotlib inline"
   ]
  },
  {
   "cell_type": "code",
   "execution_count": 2,
   "id": "16957960",
   "metadata": {},
   "outputs": [],
   "source": [
    "def subgradient_method(f, subgradf, t0, max_iter, x_init, stepsize_decay = True):\n",
    "# inputs: f (objecive function)\n",
    "#         subgradf (subgradient function)\n",
    "#         t0 (initial step size)\n",
    "#         max_iter (max number of iterations)\n",
    "#         x_init (initialization)\n",
    "\n",
    "    x = x_init\n",
    "    x_opt = x\n",
    "    f_opt = f(x)\n",
    "    x_history = [x]           # container for iterate history\n",
    "    f_history = [f(x)]          # container for objective value history\n",
    "    k = 1\n",
    "    tk = t0\n",
    "    while k < max_iter:\n",
    "        # take gradient descent step\n",
    "        subgrad = subgradf(x)        # evaluate the gradient of f at x\n",
    "        \n",
    "        if stepsize_decay:            \n",
    "            tk = t0/np.sqrt(k)       # diminishing step size\n",
    "            \n",
    "        x = x - tk*subgrad           \n",
    "        \n",
    "        \n",
    "        # record x_opt and f_opt\n",
    "        if f(x) < f_opt:\n",
    "            x_opt = x\n",
    "            f_opt = f(x)\n",
    "            \n",
    "            \n",
    "        # record x and f(x)\n",
    "        x_history.append(x)\n",
    "        f_history.append(f(x))\n",
    "        k += 1\n",
    "        \n",
    "    return x_opt, f_opt, x_history, f_history"
   ]
  },
  {
   "cell_type": "code",
   "execution_count": 8,
   "id": "fbc0052f",
   "metadata": {},
   "outputs": [],
   "source": [
    "def proximal_gradient(f,g, gradg, t0,lambda_, max_iter, x_init,stepsize_decay = True):\n",
    "#.        alpha (step size)\n",
    "#         max_iter (max number of iterations)\n",
    "#         x_init (initialization)\n",
    "    x = x_init\n",
    "    x_opt1 = x\n",
    "    f_opt1 = f(x)\n",
    "    x_history1 = [x]           # container for iterate history\n",
    "    f_history1 = [f(x)]          # container for objective value history\n",
    "    k = 1\n",
    "    tk = t0\n",
    "\n",
    "    while  k < max_iter :\n",
    "        # take gradient descent step\n",
    "        grad = gradg(x)        # evaluate the gradient of g at x\n",
    "        v = x - tk*grad\n",
    "        if stepsize_decay:            \n",
    "            tk = t0/np.sqrt(k)       # diminishing step size\n",
    "        #take proximal step    \n",
    "        x = np.sign(v)*np.maximum(0,np.abs(v)-tk * lambda_)\n",
    "        \n",
    "        # record x_opt and f_opt\n",
    "        if f(x) < f_opt1:\n",
    "            x_opt1 = x\n",
    "            f_opt1 = f(x)\n",
    "            \n",
    "        # record x and f(x)\n",
    "        x_history1.append(x)\n",
    "        f_history1.append(f(x))\n",
    "        k += 1\n",
    "    return x_opt1, f_opt1, x_history1, f_history1"
   ]
  },
  {
   "cell_type": "markdown",
   "id": "8441f988",
   "metadata": {},
   "source": [
    "Minimize LASSO problem:\n",
    "\\begin{equation}\n",
    "f\\left(\\mathbf{x}\\right) \\colon= \\frac{1}{2} * ||Ax - b||^2 + \\lambda||x||_1\n",
    "\\end{equation} "
   ]
  },
  {
   "cell_type": "code",
   "execution_count": 3,
   "id": "8e042a7f",
   "metadata": {},
   "outputs": [],
   "source": [
    "#define A and b\n",
    "lambda_ = 10**(-3)\n",
    "A = np.zeros((64,256))\n",
    "for i in range(64):\n",
    "    for j in range(256):\n",
    "        A[i][j] = 1/np.sqrt(64) * np.cos((2*i*j*(np.pi)**2)/64)\n",
    "z = np.zeros(256)\n",
    "l = [12,35,38,129,136,150,170,207,232,243]\n",
    "for i in (l):\n",
    "    z[i] = 1\n",
    "b = np.dot(A,z)"
   ]
  },
  {
   "cell_type": "code",
   "execution_count": 4,
   "id": "d5debd65",
   "metadata": {},
   "outputs": [],
   "source": [
    "gradg = lambda x : (A.T).dot(A.dot(x)-b)\n",
    "g = lambda x: 1/2 * (np.linalg.norm(A.dot(x) - b))**2 "
   ]
  },
  {
   "cell_type": "code",
   "execution_count": 5,
   "id": "791346a1",
   "metadata": {},
   "outputs": [],
   "source": [
    "\n",
    "f = lambda x:  1/2 * (np.linalg.norm(A.dot(x) - b))**2 + lambda_ * (np.linalg.norm(x,1))\n",
    "\n",
    "subgradf = lambda x: A.transpose().dot(A.dot(x) - b) + lambda_ * np.sign(x)"
   ]
  },
  {
   "cell_type": "markdown",
   "id": "12f055db",
   "metadata": {},
   "source": [
    "#### Diminishing step size\n",
    "\n",
    "Initialization at $\\mathbf{x}^0 = (3,3,3,...3)$."
   ]
  },
  {
   "cell_type": "code",
   "execution_count": 13,
   "id": "3eb7e288",
   "metadata": {},
   "outputs": [
    {
     "name": "stdout",
     "output_type": "stream",
     "text": [
      "0.0462000370282525\n"
     ]
    }
   ],
   "source": [
    "max_iter = 200\n",
    "t0 = .05\n",
    "x_init =  np.ones(256)\n",
    "x_opt, f_opt, x_history, f_history = subgradient_method(f, subgradf, t0, max_iter, x_init)\n",
    "\n",
    "print(f_opt)"
   ]
  },
  {
   "cell_type": "code",
   "execution_count": 15,
   "id": "351224fb",
   "metadata": {},
   "outputs": [
    {
     "name": "stdout",
     "output_type": "stream",
     "text": [
      "0.039891238484099215\n"
     ]
    }
   ],
   "source": [
    "\n",
    "x_opt1, f_opt1, x_history1, f_history1 = proximal_gradient(f,g, gradg, t0,lambda_, max_iter, x_init,stepsize_decay = True)\n",
    "print(f_opt1)"
   ]
  },
  {
   "cell_type": "code",
   "execution_count": 16,
   "id": "02f7641e",
   "metadata": {},
   "outputs": [
    {
     "data": {
      "image/png": "[encoded data removed]",
      "text/plain": [
       "<Figure size 720x360 with 2 Axes>"
      ]
     },
     "metadata": {
      "needs_background": "light"
     },
     "output_type": "display_data"
    }
   ],
   "source": [
    "fig, ax = plt.subplots(1, 2, figsize=(10, 5))\n",
    "ax[0].loglog(f_history)\n",
    "ax[0].set_title('Objective $f(x^k)$ vs. Iteration k using subgradient method', fontsize = 10);\n",
    "ax[1].loglog(f_history1)\n",
    "ax[1].set_title('Objective $f(x^k)$ vs. Iteration k using proximal gradient method', fontsize = 10);\n"
   ]
  },
  {
   "cell_type": "markdown",
   "id": "55e245a6",
   "metadata": {},
   "source": [
    "we can see from the graph that proximal gradient method decay/convergence faster."
   ]
  }
 ],
 "metadata": {
  "kernelspec": {
   "display_name": "Python 3",
   "language": "python",
   "name": "python3"
  },
  "language_info": {
   "codemirror_mode": {
    "name": "ipython",
    "version": 3
   },
   "file_extension": ".py",
   "mimetype": "text/x-python",
   "name": "python",
   "nbconvert_exporter": "python",
   "pygments_lexer": "ipython3",
   "version": "3.8.8"
  }
 },
 "nbformat": 4,
 "nbformat_minor": 5
}
